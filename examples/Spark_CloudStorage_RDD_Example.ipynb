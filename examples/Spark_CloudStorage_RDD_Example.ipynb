{
 "cells": [
  {
   "cell_type": "markdown",
   "metadata": {},
   "source": [
    "# Scala Example for Google Cloud Storage\n",
    "\n",
    "This is an example of how to use _Generic Connector_ with _Apache Spark_ in order to process files stored in a _Google Cloud Storage_ bucket."
   ]
  },
  {
   "cell_type": "markdown",
   "metadata": {},
   "source": [
    "## Load dependencies for Apache Spark 2.x"
   ]
  },
  {
   "cell_type": "code",
   "execution_count": null,
   "metadata": {
    "collapsed": true
   },
   "outputs": [],
   "source": [
    "%dep\n",
    "\n",
    "z.load(\"es.alvsanand:spark-generic-connector-spark_2x_2.11:0.2.0\")"
   ]
  },
  {
   "cell_type": "markdown",
   "metadata": {},
   "source": [
    "## Import dependencies"
   ]
  },
  {
   "cell_type": "code",
   "execution_count": null,
   "metadata": {
    "collapsed": true
   },
   "outputs": [],
   "source": [
    "import org.apache.spark.streaming.sgc._\n",
    "import es.alvsanand.sgc.google.cloud_storage._"
   ]
  },
  {
   "cell_type": "markdown",
   "metadata": {},
   "source": [
    "## Create the SgcConnectorParameters with the desired parameters"
   ]
  },
  {
   "cell_type": "code",
   "execution_count": null,
   "metadata": {
    "collapsed": true
   },
   "outputs": [],
   "source": [
    "val parameters = CloudStorageParameters(\"CREDENTIALS_ZIP_URL\", \"BUCKET_NAME\")"
   ]
  },
  {
   "cell_type": "markdown",
   "metadata": {},
   "source": [
    "## Create the RDD passing the SgcConnectorFactory and the parameters"
   ]
  },
  {
   "cell_type": "code",
   "execution_count": null,
   "metadata": {
    "collapsed": true
   },
   "outputs": [],
   "source": [
    "val rdd = sc.createSgcRDD(CloudStorageSgcConnectorFactory, parameters)"
   ]
  },
  {
   "cell_type": "markdown",
   "metadata": {},
   "source": [
    "## Use the RDD as desired"
   ]
  },
  {
   "cell_type": "code",
   "execution_count": null,
   "metadata": {
    "collapsed": true
   },
   "outputs": [],
   "source": [
    "rdd.partitions.map(_.asInstanceOf[SgcRDDPartition[CloudStorageSlot]].slot)\n",
    "rdd.take(10).foreach(println)"
   ]
  }
 ],
 "metadata": {},
 "nbformat": 4,
 "nbformat_minor": 0
}
