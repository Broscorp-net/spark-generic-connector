{
 "cells": [
  {
   "cell_type": "markdown",
   "metadata": {},
   "source": [
    "# Scala Example for FTPS server\n",
    "\n",
    "This is an example of how to use _Generic Connector_ with _Apache Spark_ in order to process files stored in a _FTPS server_ directory."
   ]
  },
  {
   "cell_type": "markdown",
   "metadata": {},
   "source": [
    "## Load dependencies for Apache Spark 2.x"
   ]
  },
  {
   "cell_type": "code",
   "execution_count": null,
   "metadata": {
    "collapsed": true
   },
   "outputs": [],
   "source": [
    "%dep\n",
    "\n",
    "z.load(\"es.alvsanand:spark-generic-connector-spark_2x_2.11:0.2.0\")
   ]
  },
  {
   "cell_type": "markdown",
   "metadata": {},
   "source": [
    "## Import dependencies"
   ]
  },
  {
   "cell_type": "code",
   "execution_count": null,
   "metadata": {
    "collapsed": true
   },
   "outputs": [],
   "source": [
    "import es.alvsanand.sgc.ftp.{FTPCredentials, FTPSlot}\n",
    "import es.alvsanand.sgc.ftp.secure.{FTPSSgcConnectorFactory, FTPSParameters, KeystoreConfig}\n",
    "import org.apache.spark.streaming.sgc._"
   ]
  },
  {
   "cell_type": "markdown",
   "metadata": {},
   "source": [
    "## Create the SgcConnectorParameters with the desired parameters"
   ]
  },
  {
   "cell_type": "markdown",
   "metadata": {
    "collapsed": true
   },
   "source": [
    "* Using user and password authentication:"
   ]
  },
  {
   "cell_type": "code",
   "execution_count": null,
   "metadata": {
    "collapsed": true
   },
   "outputs": [],
   "source": [
    "val parameters = FTPSParameters(\"HOST\", PORT, \"DIRECTORY\", FTPCredentials(\"USER\", Option(\"PASSWORD\")))"
   ]
  },
  {
   "cell_type": "markdown",
   "metadata": {},
   "source": [
    "* Using a keystore for client certificate connection:"
   ]
  },
  {
   "cell_type": "code",
   "execution_count": null,
   "metadata": {
    "collapsed": true
   },
   "outputs": [],
   "source": [
    "val parameters = FTPSParameters(\"HOST\", PORT, \"DIRECTORY\", FTPCredentials(\"USER\", Option(\"PASSWORD\")),\n",
    "    kconfig = Option(KeystoreConfig(Option(\"KEYSTORE_URL\"), keystorePassword = Option(\"KEYSTORE_PASSWORD\"))))"
   ]
  },
  {
   "cell_type": "markdown",
   "metadata": {},
   "source": [
    "* Using a keystore for client certificate connection and a truststore for validating the server certificate:"
   ]
  },
  {
   "cell_type": "code",
   "execution_count": null,
   "metadata": {
    "collapsed": true
   },
   "outputs": [],
   "source": [
    "val parameters = FTPSParameters(\"HOST\", PORT, \"DIRECTORY\", FTPCredentials(\"USER\", Option(\"PASSWORD\")),\n",
    "    kconfig = Option(KeystoreConfig(Option(\"KEYSTORE_URL\"), keystorePassword = Option(\"KEYSTORE_PASSWORD\"))),\n",
    "    tconfig = Option(KeystoreConfig(Option(\"TRUSTSTORE_URL\"), keystorePassword = Option(\"TRUSTSTORE_PASSWORD\"))))"
   ]
  },
  {
   "cell_type": "markdown",
   "metadata": {},
   "source": [
    "## Create the RDD passing the SgcConnectorFactory and the parameters"
   ]
  },
  {
   "cell_type": "code",
   "execution_count": null,
   "metadata": {
    "collapsed": true
   },
   "outputs": [],
   "source": [
    "val rdd = sc.createSgcRDD(FTPSSgcConnectorFactory, parameters)"
   ]
  },
  {
   "cell_type": "markdown",
   "metadata": {},
   "source": [
    "## Use the RDD as desired"
   ]
  },
  {
   "cell_type": "code",
   "execution_count": null,
   "metadata": {
    "collapsed": true
   },
   "outputs": [],
   "source": [
    "rdd.partitions.map(_.asInstanceOf[SgcRDDPartition[FTPSlot]].slot)\n",
    "rdd.take(10).foreach(println)"
   ]
  }
 ],
 "metadata": {},
 "nbformat": 4,
 "nbformat_minor": 0
}
