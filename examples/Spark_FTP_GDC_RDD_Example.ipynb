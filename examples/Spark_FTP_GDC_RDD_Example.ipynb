﻿{
 "cells": [
  {
   "cell_type": "code",
   "execution_count": null,
   "metadata": {},
   "outputs": [],
   "source": [
    "rdd.partitions.map(_.asInstanceOf[GdcRDDPartition[FTPFile]].gdcFile)\n",
    "rdd.take(10).foreach(println)"
   ]
  },
  {
   "cell_type": "code",
   "execution_count": null,
   "metadata": {},
   "outputs": [],
   "source": [
    "%md\n",
    "\n",
    "# Example for reading data from a FTP server"
   ]
  },
  {
   "cell_type": "code",
   "execution_count": null,
   "metadata": {},
   "outputs": [],
   "source": [
    "%dep\n",
    "\n",
    "z.load(\"PATH_TO_PROJECT/gdc-spark_2x/target/scala-2.11/gdc-spark_2x-assembly-0.2.0-SNAPSHOT.jar\")\n",
    "z.load(\"PATH_TO_PROJECT/gdc-ftp/target/scala-2.11/gdc-ftp-assembly-0.2.0-SNAPSHOT.jar\")"
   ]
  },
  {
   "cell_type": "code",
   "execution_count": null,
   "metadata": {},
   "outputs": [],
   "source": [
    "import org.apache.spark.streaming.gdc._\n",
    "import es.alvsanand.gdc.ftp.{Credentials, FTPFile}\n",
    "import es.alvsanand.gdc.ftp.normal.{FTPGdcDownloaderFactory, FTPParameters}"
   ]
  },
  {
   "cell_type": "code",
   "execution_count": null,
   "metadata": {},
   "outputs": [],
   "source": [
    "val parameters = FTPParameters(\"ftp.swfwmd.state.fl.us\", 21, \"/pub/usace\", Credentials(\"anonymous\"))"
   ]
  },
  {
   "cell_type": "code",
   "execution_count": null,
   "metadata": {},
   "outputs": [],
   "source": [
    "val rdd = sc.createDownloadRDD(FTPGdcDownloaderFactory, parameters)"
   ]
  }
 ],
 "metadata": {},
 "nbformat": 4,
 "nbformat_minor": 0
}