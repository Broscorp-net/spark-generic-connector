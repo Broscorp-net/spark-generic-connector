{
 "cells": [
  {
   "cell_type": "markdown",
   "metadata": {},
   "source": [
    "# Scala Example for FTP server\n",
    "\n",
    "This is an example of how to use _Generic Downloader Connector_ with _Apache Spark_ in order to process files stored in a _FTP server_ directory."
   ]
  },
  {
   "cell_type": "markdown",
   "metadata": {},
   "source": [
    "## Load dependencies for Apache Spark 2.x"
   ]
  },
  {
   "cell_type": "code",
   "execution_count": null,
   "metadata": {
    "collapsed": true
   },
   "outputs": [],
   "source": [
    "%dep\n",
    "\n",
    "z.load(\"org.apache.spark.generic-downloader-connector:gdc-spark_2x_2.11:0.2.0\")\n",
    "z.load(\"org.apache.spark.generic-downloader-connector:gdc-ftp:0.2.0\")"
   ]
  },
  {
   "cell_type": "markdown",
   "metadata": {},
   "source": [
    "## Import dependencies"
   ]
  },
  {
   "cell_type": "code",
   "execution_count": null,
   "metadata": {
    "collapsed": true
   },
   "outputs": [],
   "source": [
    "import es.alvsanand.gdc.ftp.{FTPCredentials, FTPSlot}\n",
    "import es.alvsanand.gdc.ftp.normal.{FTPGdcDownloaderFactory, FTPParameters}\n",
    "import org.apache.spark.streaming.gdc._"
   ]
  },
  {
   "cell_type": "markdown",
   "metadata": {},
   "source": [
    "## Create the GdcDownloaderParameters with the desired parameters"
   ]
  },
  {
   "cell_type": "markdown",
   "metadata": {},
   "source": [
    "* Direct connection:"
   ]
  },
  {
   "cell_type": "code",
   "execution_count": null,
   "metadata": {
    "collapsed": true
   },
   "outputs": [],
   "source": [
    "val parameters = SFTPParameters(\"HOST\", PORT, \"DIRECTORY\", FTPCredentials(\"USER\", Option(\"PASSWORD\"))"
   ]
  },
  {
   "cell_type": "markdown",
   "metadata": {},
   "source": [
    "* Connection through proxy server:"
   ]
  },
  {
   "cell_type": "code",
   "execution_count": null,
   "metadata": {
    "collapsed": true
   },
   "outputs": [],
   "source": [
    "val parameters = SFTPParameters(\"HOST\", PORT, \"DIRECTORY\", FTPCredentials(\"USER\", Option(\"PASSWORD\")),\n",
    "                        proxyEnabled = true, proxyHost = Option(\"PROXYHOST\"), proxyUser = Option(\"PROXY_USER\"),\n",
    "                        proxyPassword = Option(\"PROXY_PASSWORD\"))"
   ]
  },
  {
   "cell_type": "markdown",
   "metadata": {},
   "source": [
    "## Create the GdcRDD passing the GdcDownloaderFactory and the parameters"
   ]
  },
  {
   "cell_type": "code",
   "execution_count": null,
   "metadata": {
    "collapsed": true
   },
   "outputs": [],
   "source": [
    "val rdd = sc.createDownloadRDD(FTPGdcDownloaderFactory, parameters)"
   ]
  },
  {
   "cell_type": "markdown",
   "metadata": {},
   "source": [
    "## Use the RDD as desired"
   ]
  },
  {
   "cell_type": "code",
   "execution_count": null,
   "metadata": {
    "collapsed": true
   },
   "outputs": [],
   "source": [
    "rdd.partitions.map(_.asInstanceOf[GdcRDDPartition[CloudStorageSlot]].slot)\n",
    "rdd.take(10).foreach(println)"
   ]
  }
 ],
 "metadata": {},
 "nbformat": 4,
 "nbformat_minor": 0
}
