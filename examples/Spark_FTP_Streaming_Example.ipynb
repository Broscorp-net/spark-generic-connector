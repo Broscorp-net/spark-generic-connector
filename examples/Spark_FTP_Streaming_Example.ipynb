{
 "cells": [
  {
   "cell_type": "markdown",
   "metadata": {},
   "source": [
    "# Scala Example for FTP server\n",
    "\n",
    "This is an example of how to use _Generic Connector_ with _Apache Spark_ in order to process files stored in a _FTP server_ directory."
   ]
  },
  {
   "cell_type": "markdown",
   "metadata": {},
   "source": [
    "## Load dependencies for Apache Spark 2.x"
   ]
  },
  {
   "cell_type": "code",
   "execution_count": null,
   "metadata": {
    "collapsed": true
   },
   "outputs": [],
   "source": [
    "%dep\n",
    "\n",
    "z.load(\"es.alvsanand:spark-generic-connector-spark_2x_2.11:0.2.0\")
   ]
  },
  {
   "cell_type": "markdown",
   "metadata": {},
   "source": [
    "## Import dependencies"
   ]
  },
  {
   "cell_type": "code",
   "execution_count": null,
   "metadata": {
    "collapsed": true
   },
   "outputs": [],
   "source": [
    "import es.alvsanand.sgc.ftp.{FTPCredentials, FTPSlot}\n",
    "import es.alvsanand.sgc.ftp.normal.{FTPSgcConnectorFactory, FTPParameters}\n",
    "import java.text.SimpleDateFormat\n",
    "import org.apache.spark.streaming.{Seconds, StreamingContext}\n",
    "import org.apache.spark.streaming.sgc._"
   ]
  },
  {
   "cell_type": "markdown",
   "metadata": {},
   "source": [
    "## Create the SgcConnectorParameters with the desired parameters"
   ]
  },
  {
   "cell_type": "code",
   "execution_count": null,
   "metadata": {
    "collapsed": true
   },
   "outputs": [],
   "source": [
    "val parameters = SFTPParameters(\"HOST\", PORT, \"DIRECTORY\", FTPCredentials(\"USER\", Option(\"PASSWORD\"))"
   ]
  },
  {
   "cell_type": "markdown",
   "metadata": {},
   "source": [
    "## Create a SgcRange for filtering files:"
   ]
  },
  {
   "cell_type": "markdown",
   "metadata": {},
   "source": [
    "* Process since the benining:"
   ]
  },
  {
   "cell_type": "code",
   "execution_count": null,
   "metadata": {
    "collapsed": true
   },
   "outputs": [],
   "source": [
    "val parameters = SFTPParameters(\"HOST\", PORT, \"DIRECTORY\", FTPCredentials(\"USER\", Option(\"PASSWORD\"))\n",
    "\n",
    "val range = None"
   ]
  },
  {
   "cell_type": "markdown",
   "metadata": {},
   "source": [
    "* Process since a specific date:"
   ]
  },
  {
   "cell_type": "code",
   "execution_count": null,
   "metadata": {
    "collapsed": true
   },
   "outputs": [],
   "source": [
    "val dt: SimpleDateFormat = new SimpleDateFormat(\"yyyy-MM-dd HH:mm:ss\")\n",
    "val date = dt.parse(\"2016-01-01 00:00:00\")\n",
    "\n",
    "val range = Option(SgcRange(date))"
   ]
  },
  {
   "cell_type": "markdown",
   "metadata": {},
   "source": [
    "* Process since a specific date and skipping somefiles:"
   ]
  },
  {
   "cell_type": "code",
   "execution_count": null,
   "metadata": {
    "collapsed": true
   },
   "outputs": [],
   "source": [
    "val dt: SimpleDateFormat = new SimpleDateFormat(\"yyyy-MM-dd HH:mm:ss\")\n",
    "val date = dt.parse(\"2016-01-01 00:00:00\")\n",
    "\n",
    "val range = Option(SgcRange(date, Seq(\"/files/example_20161201_1.txt\", \"/files/example_20161201_2.txt\"))"
   ]
  },
  {
   "cell_type": "markdown",
   "metadata": {},
   "source": [
    "## Create the StreamingContext passing the SgcConnectorFactory and the parameters"
   ]
  },
  {
   "cell_type": "code",
   "execution_count": null,
   "metadata": {
    "collapsed": true
   },
   "outputs": [],
   "source": [
    "val batchTime = Seconds(60)\n",
    "val checkpointTime = Seconds(5 * 60)\n",
    "\n",
    "val checkPointDirectory = \"/tmp/CHECK_POINT_DIRECTORY\"\n",
    "\n",
    "val ssc = StreamingContext.getOrCreate(checkPointDirectory, () => {\n",
    "      val ssc = new StreamingContext(sc, batchTime)\n",
    "\n",
    "      val ds = ssc.createSgcInputDStream(FTPSgcConnectorFactory, parameters, range)\n",
    "\n",
    "      ds.checkpoint(checkpointTime)\n",
    "\n",
    "      ssc.checkpoint(checkPointDirectory)\n",
    "\n",
    "      ds.foreachRDD { rdd =>\n",
    "        rdd.saveAsTextFile(\"hdfs://...\")\n",
    "      }\n",
    "\n",
    "      ssc\n",
    "    })"
   ]
  },
  {
   "cell_type": "markdown",
   "metadata": {},
   "source": [
    "## Start the StreamingContext"
   ]
  },
  {
   "cell_type": "code",
   "execution_count": null,
   "metadata": {
    "collapsed": true
   },
   "outputs": [],
   "source": [
    "ssc.start()"
   ]
  }
 ],
 "metadata": {},
 "nbformat": 4,
 "nbformat_minor": 0
}
