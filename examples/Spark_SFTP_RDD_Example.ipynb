{
 "cells": [
  {
   "cell_type": "markdown",
   "metadata": {},
   "source": [
    "# Scala Example for SFTP server\n",
    "\n",
    "This is an example of how to use _Generic Downloader Connector_ with _Apache Spark_ in order to process files stored in a _SFTP server_ directory."
   ]
  },
  {
   "cell_type": "markdown",
   "metadata": {},
   "source": [
    "## Load dependencies for Apache Spark 2.x"
   ]
  },
  {
   "cell_type": "code",
   "execution_count": null,
   "metadata": {
    "collapsed": true
   },
   "outputs": [],
   "source": [
    "%dep\n",
    "\n",
    "z.load(\"es.alvsanand:spark-generic-downloader-connector-spark_2x_2.11:0.2.0\")
   ]
  },
  {
   "cell_type": "markdown",
   "metadata": {},
   "source": [
    "## Import dependencies"
   ]
  },
  {
   "cell_type": "code",
   "execution_count": null,
   "metadata": {
    "collapsed": true
   },
   "outputs": [],
   "source": [
    "import es.alvsanand.sgdc.ftp.{FTPCredentials, FTPSlot}\n",
    "import es.alvsanand.sgdc.ftp.secure.{SFTPSgdcDownloaderFactory, SFTPParameters, KeyConfig}\n",
    "import org.apache.spark.streaming.sgdc._"
   ]
  },
  {
   "cell_type": "markdown",
   "metadata": {},
   "source": [
    "## Create the SgdcDownloaderParameters with the desired parameters"
   ]
  },
  {
   "cell_type": "markdown",
   "metadata": {
    "collapsed": true
   },
   "source": [
    "* Using user and password authentication:"
   ]
  },
  {
   "cell_type": "code",
   "execution_count": null,
   "metadata": {
    "collapsed": true
   },
   "outputs": [],
   "source": [
    "val parameters = SFTPParameters(\"HOST\", PORT, \"DIRECTORY\", FTPCredentials(\"USER\", Option(\"PASSWORD\")))"
   ]
  },
  {
   "cell_type": "markdown",
   "metadata": {},
   "source": [
    "* Using private key authentication:"
   ]
  },
  {
   "cell_type": "code",
   "execution_count": null,
   "metadata": {
    "collapsed": true
   },
   "outputs": [],
   "source": [
    "val parameters = SFTPParameters(\"HOST\", PORT, \"DIRECTORY\", FTPCredentials(\"USER\"),\n",
    "                                   pconfig = Option(KeyConfig(\"PRIVATE_KEY_URL\", \"PUBLIC_KEY_URL\")))"
   ]
  },
  {
   "cell_type": "markdown",
   "metadata": {},
   "source": [
    "* Using encrypted private key authentication:"
   ]
  },
  {
   "cell_type": "code",
   "execution_count": null,
   "metadata": {
    "collapsed": true
   },
   "outputs": [],
   "source": [
    "val parameters = SFTPParameters(\"HOST\", PORT, \"DIRECTORY\", FTPCredentials(\"USER\"),\n",
    "                                   pconfig = Option(KeyConfig(\"PRIVATE_KEY_URL\", \"PUBLIC_KEY_URL\",\n",
    "                                                       Option(\"PRIVATE_KEY_PASSWORD\")))"
   ]
  },
  {
   "cell_type": "markdown",
   "metadata": {},
   "source": [
    "## Create the RDD passing the SgdcDownloaderFactory and the parameters"
   ]
  },
  {
   "cell_type": "code",
   "execution_count": null,
   "metadata": {
    "collapsed": true
   },
   "outputs": [],
   "source": [
    "val rdd = sc.createSgdcRDD(SFTPSgdcDownloaderFactory, parameters)"
   ]
  },
  {
   "cell_type": "markdown",
   "metadata": {},
   "source": [
    "## Use the RDD as desired"
   ]
  },
  {
   "cell_type": "code",
   "execution_count": null,
   "metadata": {
    "collapsed": true
   },
   "outputs": [],
   "source": [
    "rdd.partitions.map(_.asInstanceOf[SgdcRDDPartition[FTPSlot]].slot)\n",
    "rdd.take(10).foreach(println)"
   ]
  }
 ],
 "metadata": {},
 "nbformat": 4,
 "nbformat_minor": 0
}
