{
 "cells": [
  {
   "cell_type": "markdown",
   "metadata": {
    "collapsed": true
   },
   "source": [
    "# Apache Zeppeling FTP Example\n",
    "\n",
    "This notebook demonstrates how to use *spark-generic-downloader-connector* in order to read data from a FTP server.\n"
   ]
  },
  {
   "cell_type": "code",
   "execution_count": null,
   "metadata": {},
   "outputs": [],
   "source": [
    "%dep\n",
    "\n",
    "z.load(\"/home/alvsanand/work/workspace/spark-generic-downloader-connector/gdc-spark_2x/target/scala-2.11/gdc-spark_2x-assembly-0.1.0-SNAPSHOT.jar\")\n",
    "z.load(\"/home/alvsanand/work/workspace/spark-generic-downloader-connector/gdc-ftp/target/scala-2.11/gdc-ftp-assembly-0.1.0-SNAPSHOT.jar\")"
   ]
  },
  {
   "cell_type": "code",
   "execution_count": null,
   "metadata": {},
   "outputs": [],
   "source": [
    "import org.apache.spark.streaming.gdc._\n",
    "import es.alvsanand.gdc.ftp.{Credentials, FTPFile}\n",
    "import es.alvsanand.gdc.ftp.normal.{FTPGdcDownloaderFactory, FTPParameters}"
   ]
  },
  {
   "cell_type": "code",
   "execution_count": null,
   "metadata": {},
   "outputs": [],
   "source": [
    "val rdd = sc.createDownloadRDD(FTPGdcDownloaderFactory, FTPParameters(\"ftp.swfwmd.state.fl.us\", 21, \"/pub/usace\", Credentials(\"anonymous\")))"
   ]
  },
  {
   "cell_type": "code",
   "execution_count": null,
   "metadata": {},
   "outputs": [],
   "source": [
    "rdd.partitions.map(_.asInstanceOf[GdcRDDPartition[FTPFile]].gdcFile)"
   ]
  }
 ],
 "metadata": {
  "kernelspec": {
   "display_name": "Python 2",
   "language": "python",
   "name": "python2"
  },
  "language_info": {
   "codemirror_mode": {
    "name": "ipython",
    "version": 2.0
   },
   "file_extension": ".py",
   "mimetype": "text/x-python",
   "name": "python",
   "nbconvert_exporter": "python",
   "pygments_lexer": "ipython2",
   "version": "2.7.6"
  }
 },
 "nbformat": 4,
 "nbformat_minor": 0
}